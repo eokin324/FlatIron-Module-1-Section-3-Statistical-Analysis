{
 "cells": [
  {
   "cell_type": "markdown",
   "metadata": {},
   "source": [
    "In this project, you'll create a simple calculator which can perform basic arithmetic operations like addition, subtraction, multiplication or division depending upon the user input."
   ]
  },
  {
   "cell_type": "code",
   "execution_count": 1,
   "metadata": {},
   "outputs": [
    {
     "name": "stdout",
     "output_type": "stream",
     "text": [
      "Please select operations -\n",
      "1. Add\n",
      "2. Subtract\n",
      "3. Multiply\n",
      "4. Divide\n",
      "\n",
      "Select operations from 1,2,3,4: 2\n",
      "Enter first number: 8\n",
      "Enter second number: 4\n",
      "8 - 4 = 4\n",
      "Continue? y/n: n\n"
     ]
    }
   ],
   "source": [
    "print(\"Please select operations -\\n\"\\\n",
    "      \"1. Add\\n\"\\\n",
    "      \"2. Subtract\\n\"\\\n",
    "      \"3. Multiply\\n\"\\\n",
    "      \"4. Divide\\n\")\n",
    "def add(n1,n2):\n",
    "    return n1+n2\n",
    "def subtract(n1,n2):\n",
    "    return n1-n2\n",
    "def multiply(n1,n2):\n",
    "    return n1*n2\n",
    "def divide(n1,n2):\n",
    "    return n1/n2\n",
    "cont='y'\n",
    "while cont=='y':\n",
    "    select=input(\"Select operations from 1,2,3,4: \")\n",
    "    number_1=int(input(\"Enter first number: \"))\n",
    "    number_2=int(input(\"Enter second number: \"))\n",
    "    if select=='1':\n",
    "        print(number_1,\"+\",number_2,\"=\",add(number_1,number_2))\n",
    "    elif select=='2':\n",
    "        print(number_1,\"-\",number_2,\"=\",subtract(number_1,number_2))\n",
    "    elif select=='3':\n",
    "        print(number_1,\"*\",number_2,\"=\",multiply(number_1,number_2))\n",
    "    elif select=='4':\n",
    "        print(number_1,\"/\",number_2,\"=\",divide(number_1,number_2))\n",
    "    else:\n",
    "        print(\"Invalid input\")\n",
    "    cont=input(\"Continue? y/n: \")\n",
    "    if cont==\"n\":\n",
    "        break"
   ]
  }
 ],
 "metadata": {
  "kernelspec": {
   "display_name": "Python 3",
   "language": "python",
   "name": "python3"
  },
  "language_info": {
   "codemirror_mode": {
    "name": "ipython",
    "version": 3
   },
   "file_extension": ".py",
   "mimetype": "text/x-python",
   "name": "python",
   "nbconvert_exporter": "python",
   "pygments_lexer": "ipython3",
   "version": "3.7.3"
  }
 },
 "nbformat": 4,
 "nbformat_minor": 2
}
